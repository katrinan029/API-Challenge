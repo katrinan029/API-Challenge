{
 "cells": [
  {
   "cell_type": "code",
   "execution_count": 2,
   "metadata": {},
   "outputs": [],
   "source": [
    "import matplotlib.pyplot as plt\n",
    "import pandas as pd\n",
    "import numpy as np\n",
    "import requests\n",
    "import time\n",
    "from scipy.stats import linregress\n",
    "from pprint import pprint\n",
    "\n",
    "# Import API key\n",
    "from config import weather_api_key\n",
    "\n",
    "# Incorporated citipy to determine city based on latitude and longitude\n",
    "from citipy import citipy\n",
    "\n",
    "# Output File (CSV)\n",
    "output_data_file = \"output_data/cities.csv\"\n",
    "\n",
    "# Range of latitudes and longitudes\n",
    "lat_range = (-90, 90)\n",
    "lng_range = (-180, 180)"
   ]
  },
  {
   "cell_type": "markdown",
   "metadata": {},
   "source": [
    "## Generate Cities"
   ]
  },
  {
   "cell_type": "code",
   "execution_count": 4,
   "metadata": {},
   "outputs": [
    {
     "data": {
      "text/plain": [
       "629"
      ]
     },
     "execution_count": 4,
     "metadata": {},
     "output_type": "execute_result"
    }
   ],
   "source": [
    " # List for holding lat_lngs and cities\n",
    "lat_lngs = []\n",
    "cities = []\n",
    "\n",
    "# Create a set of random lat and lng combinations\n",
    "lats = np.random.uniform(lat_range[0], lat_range[1], size=1500)\n",
    "lngs = np.random.uniform(lng_range[0], lng_range[1], size=1500)\n",
    "lat_lngs = zip(lats, lngs)\n",
    "\n",
    "# Identify nearest city for each lat, lng combination\n",
    "for lat_lng in lat_lngs:\n",
    "    city = citipy.nearest_city(lat_lng[0], lat_lng[1]).city_name\n",
    "    \n",
    "    # If the city is unique, then add it to a our cities list\n",
    "    if city not in cities:\n",
    "        cities.append(city)\n",
    "\n",
    "# Print the city count to confirm sufficient count\n",
    "len(cities)"
   ]
  },
  {
   "cell_type": "code",
   "execution_count": 158,
   "metadata": {},
   "outputs": [
    {
     "name": "stdout",
     "output_type": "stream",
     "text": [
      "Processing record 1 of Set 1 | sao filipe\n",
      "Processing record 2 of Set 1 | bay roberts\n",
      "Processing record 3 of Set 1 | skjervoy\n",
      "Processing record 4 of Set 1 | vestmannaeyjar\n",
      "Processing record 5 of Set 1 | vardo\n",
      "Processing record 6 of Set 1 | hailar\n",
      "Processing record 7 of Set 1 | guerrero negro\n",
      "Processing record 8 of Set 1 | tasiilaq\n",
      "Processing record 9 of Set 1 | ponta delgada\n",
      "Processing record 10 of Set 1 | avera\n",
      "Processing record 11 of Set 1 | geraldton\n",
      "City not found\n",
      "Processing record 12 of Set 1 | muroto\n",
      "Processing record 13 of Set 1 | mataura\n",
      "Processing record 14 of Set 1 | punta arenas\n",
      "Processing record 15 of Set 1 | hermanus\n",
      "Processing record 16 of Set 1 | avarua\n",
      "Processing record 17 of Set 1 | bethel\n",
      "Processing record 18 of Set 1 | iqaluit\n",
      "Processing record 19 of Set 1 | atuona\n",
      "Processing record 20 of Set 1 | hilo\n",
      "Processing record 21 of Set 1 | phuket\n",
      "Processing record 22 of Set 1 | westport\n",
      "Processing record 23 of Set 1 | albany\n",
      "Processing record 24 of Set 1 | namatanai\n",
      "City not found\n",
      "Processing record 25 of Set 1 | dingle\n",
      "Processing record 26 of Set 1 | ancud\n",
      "Processing record 27 of Set 1 | rikitea\n",
      "City not found\n",
      "Processing record 28 of Set 1 | new norfolk\n",
      "Processing record 29 of Set 1 | cherskiy\n",
      "Processing record 30 of Set 1 | victoria\n",
      "Processing record 31 of Set 1 | mahanoro\n",
      "Processing record 32 of Set 1 | cap malheureux\n",
      "Processing record 33 of Set 1 | calamar\n",
      "Processing record 34 of Set 1 | taoudenni\n",
      "Processing record 35 of Set 1 | progreso\n",
      "Processing record 36 of Set 1 | de aar\n",
      "Processing record 37 of Set 1 | kopavogur\n",
      "Processing record 38 of Set 1 | kapaa\n",
      "Processing record 39 of Set 1 | ushuaia\n",
      "Processing record 40 of Set 1 | qaanaaq\n",
      "Processing record 41 of Set 1 | bredasdorp\n",
      "Processing record 42 of Set 1 | yulara\n",
      "Processing record 43 of Set 1 | sankeshwar\n",
      "Processing record 44 of Set 1 | chicama\n",
      "Processing record 45 of Set 1 | souillac\n",
      "Processing record 46 of Set 1 | lasa\n",
      "Processing record 47 of Set 1 | luena\n",
      "Processing record 48 of Set 1 | eyl\n",
      "Processing record 49 of Set 1 | port alfred\n",
      "City not found\n",
      "Processing record 50 of Set 1 | linguere\n",
      "Processing record 1 of Set 2 | hobart\n",
      "City not found\n",
      "Processing record 2 of Set 2 | bodden town\n",
      "Processing record 3 of Set 2 | chokurdakh\n",
      "Processing record 4 of Set 2 | ponta do sol\n",
      "Processing record 5 of Set 2 | etchoropo\n",
      "Processing record 6 of Set 2 | severo-kurilsk\n",
      "Processing record 7 of Set 2 | marfino\n",
      "City not found\n",
      "City not found\n",
      "Processing record 8 of Set 2 | brattvag\n",
      "Processing record 9 of Set 2 | bugene\n",
      "Processing record 10 of Set 2 | west wendover\n",
      "Processing record 11 of Set 2 | jishou\n",
      "Processing record 12 of Set 2 | thompson\n",
      "Processing record 13 of Set 2 | khatanga\n",
      "Processing record 14 of Set 2 | maunabo\n",
      "Processing record 15 of Set 2 | lewiston\n",
      "Processing record 16 of Set 2 | barrow\n",
      "Processing record 17 of Set 2 | vaini\n",
      "Processing record 18 of Set 2 | cape town\n",
      "Processing record 19 of Set 2 | kenda\n",
      "Processing record 20 of Set 2 | charters towers\n",
      "Processing record 21 of Set 2 | jasper\n",
      "Processing record 22 of Set 2 | nikolskoye\n",
      "Processing record 23 of Set 2 | bubaque\n",
      "Processing record 24 of Set 2 | jamestown\n",
      "Processing record 25 of Set 2 | puerto ayora\n",
      "Processing record 26 of Set 2 | carnarvon\n",
      "Processing record 27 of Set 2 | codo\n",
      "City not found\n",
      "Processing record 28 of Set 2 | georgetown\n",
      "Processing record 29 of Set 2 | klaksvik\n",
      "Processing record 30 of Set 2 | yellowknife\n",
      "Processing record 31 of Set 2 | sadovoye\n",
      "Processing record 32 of Set 2 | cabo san lucas\n",
      "City not found\n",
      "Processing record 33 of Set 2 | saskylakh\n",
      "Processing record 34 of Set 2 | torbay\n",
      "Processing record 35 of Set 2 | luderitz\n",
      "Processing record 36 of Set 2 | candido mendes\n",
      "Processing record 37 of Set 2 | coos bay\n",
      "Processing record 38 of Set 2 | port lincoln\n",
      "Processing record 39 of Set 2 | tiksi\n",
      "Processing record 40 of Set 2 | lorengau\n",
      "Processing record 41 of Set 2 | pindiga\n",
      "Processing record 42 of Set 2 | khorixas\n",
      "Processing record 43 of Set 2 | huangchuan\n",
      "Processing record 44 of Set 2 | nishihara\n",
      "City not found\n",
      "Processing record 45 of Set 2 | katsuura\n",
      "Processing record 46 of Set 2 | lompoc\n",
      "Processing record 47 of Set 2 | ilulissat\n",
      "Processing record 48 of Set 2 | neuquen\n",
      "Processing record 49 of Set 2 | lehigh acres\n",
      "Processing record 50 of Set 2 | bluff\n",
      "Processing record 1 of Set 3 | esperance\n",
      "City not found\n",
      "Processing record 2 of Set 3 | coquimbo\n",
      "Processing record 3 of Set 3 | busselton\n",
      "Processing record 4 of Set 3 | moree\n",
      "Processing record 5 of Set 3 | te anau\n",
      "Processing record 6 of Set 3 | saint george\n",
      "City not found\n",
      "City not found\n",
      "Processing record 7 of Set 3 | soyo\n",
      "Processing record 8 of Set 3 | isangel\n",
      "Processing record 9 of Set 3 | arraial do cabo\n",
      "Processing record 10 of Set 3 | alofi\n",
      "Processing record 11 of Set 3 | marsh harbour\n",
      "Processing record 12 of Set 3 | finschhafen\n",
      "Processing record 13 of Set 3 | east london\n",
      "Processing record 14 of Set 3 | porto santo\n",
      "Processing record 15 of Set 3 | manicore\n",
      "Processing record 16 of Set 3 | saint-augustin\n",
      "Processing record 17 of Set 3 | livingston\n",
      "Processing record 18 of Set 3 | lavrentiya\n",
      "Processing record 19 of Set 3 | airai\n",
      "Processing record 20 of Set 3 | baykit\n",
      "Processing record 21 of Set 3 | lazaro cardenas\n",
      "Processing record 22 of Set 3 | castro\n",
      "Processing record 23 of Set 3 | coahuayana\n",
      "Processing record 24 of Set 3 | topolovgrad\n",
      "Processing record 25 of Set 3 | dikson\n",
      "Processing record 26 of Set 3 | gardelegen\n",
      "Processing record 27 of Set 3 | hithadhoo\n",
      "Processing record 28 of Set 3 | aklavik\n",
      "Processing record 29 of Set 3 | bengkulu\n",
      "Processing record 30 of Set 3 | biltine\n",
      "Processing record 31 of Set 3 | darnah\n",
      "Processing record 32 of Set 3 | lata\n",
      "City not found\n",
      "Processing record 33 of Set 3 | kismayo\n",
      "Processing record 34 of Set 3 | pangnirtung\n",
      "Processing record 35 of Set 3 | paraiso\n",
      "Processing record 36 of Set 3 | san patricio\n",
      "Processing record 37 of Set 3 | mar del plata\n",
      "Processing record 38 of Set 3 | hit\n",
      "Processing record 39 of Set 3 | natal\n",
      "Processing record 40 of Set 3 | santa rosa\n",
      "Processing record 41 of Set 3 | miandrivazo\n",
      "City not found\n",
      "Processing record 42 of Set 3 | richmond\n",
      "Processing record 43 of Set 3 | krasnyy chikoy\n",
      "Processing record 44 of Set 3 | mount gambier\n",
      "Processing record 45 of Set 3 | upernavik\n",
      "Processing record 46 of Set 3 | bandarbeyla\n",
      "Processing record 47 of Set 3 | sao paulo de olivenca\n",
      "Processing record 48 of Set 3 | caceres\n",
      "Processing record 49 of Set 3 | butaritari\n",
      "City not found\n",
      "Processing record 50 of Set 3 | portland\n",
      "Processing record 1 of Set 4 | ruteng\n",
      "Processing record 2 of Set 4 | harper\n",
      "Processing record 3 of Set 4 | paraisopolis\n",
      "Processing record 4 of Set 4 | suhut\n",
      "Processing record 5 of Set 4 | dauphin\n",
      "Processing record 6 of Set 4 | qaqortoq\n",
      "City not found\n",
      "Processing record 7 of Set 4 | mercedes\n",
      "Processing record 8 of Set 4 | norman wells\n",
      "Processing record 9 of Set 4 | saint-philippe\n",
      "Processing record 10 of Set 4 | ahipara\n",
      "Processing record 11 of Set 4 | emsdetten\n",
      "Processing record 12 of Set 4 | bathsheba\n",
      "Processing record 13 of Set 4 | amga\n",
      "Processing record 14 of Set 4 | praia da vitoria\n",
      "Processing record 15 of Set 4 | bambous virieux\n",
      "Processing record 16 of Set 4 | davenda\n",
      "Processing record 17 of Set 4 | limon\n",
      "Processing record 18 of Set 4 | polunochnoye\n",
      "Processing record 19 of Set 4 | rawson\n",
      "Processing record 20 of Set 4 | kununurra\n",
      "Processing record 21 of Set 4 | talara\n",
      "Processing record 22 of Set 4 | fortuna\n",
      "Processing record 23 of Set 4 | mahebourg\n",
      "Processing record 24 of Set 4 | broken hill\n",
      "Processing record 25 of Set 4 | george town\n",
      "Processing record 26 of Set 4 | adrar\n",
      "Processing record 27 of Set 4 | wanning\n",
      "Processing record 28 of Set 4 | wajima\n",
      "Processing record 29 of Set 4 | narsaq\n",
      "Processing record 30 of Set 4 | zhuhai\n",
      "Processing record 31 of Set 4 | soria\n",
      "Processing record 32 of Set 4 | biak\n",
      "Processing record 33 of Set 4 | touros\n",
      "Processing record 34 of Set 4 | shelbyville\n",
      "Processing record 35 of Set 4 | pringsewu\n",
      "Processing record 36 of Set 4 | homer\n",
      "Processing record 37 of Set 4 | halifax\n",
      "Processing record 38 of Set 4 | alice springs\n",
      "Processing record 39 of Set 4 | kupang\n",
      "Processing record 40 of Set 4 | kirksville\n",
      "Processing record 41 of Set 4 | colac\n",
      "Processing record 42 of Set 4 | khash\n",
      "Processing record 43 of Set 4 | sur\n"
     ]
    },
    {
     "name": "stdout",
     "output_type": "stream",
     "text": [
      "Processing record 44 of Set 4 | tombouctou\n",
      "Processing record 45 of Set 4 | seoul\n",
      "Processing record 46 of Set 4 | deputatskiy\n",
      "City not found\n",
      "Processing record 47 of Set 4 | kharp\n",
      "Processing record 48 of Set 4 | tilichiki\n",
      "Processing record 49 of Set 4 | faanui\n",
      "Processing record 50 of Set 4 | chulym\n",
      "Processing record 1 of Set 5 | carutapera\n",
      "Processing record 2 of Set 5 | high level\n",
      "Processing record 3 of Set 5 | erenhot\n",
      "Processing record 4 of Set 5 | cidreira\n",
      "Processing record 5 of Set 5 | namibe\n",
      "Processing record 6 of Set 5 | dandong\n",
      "Processing record 7 of Set 5 | shimoda\n",
      "Processing record 8 of Set 5 | puerto escondido\n",
      "Processing record 9 of Set 5 | konotop\n",
      "Processing record 10 of Set 5 | pavilosta\n",
      "City not found\n",
      "Processing record 11 of Set 5 | mehamn\n",
      "Processing record 12 of Set 5 | santa vitoria do palmar\n",
      "Processing record 13 of Set 5 | lagoa\n",
      "Processing record 14 of Set 5 | pevek\n",
      "Processing record 15 of Set 5 | sambava\n",
      "Processing record 16 of Set 5 | nipawin\n",
      "Processing record 17 of Set 5 | tezpur\n",
      "Processing record 18 of Set 5 | san ramon\n",
      "Processing record 19 of Set 5 | viru\n",
      "Processing record 20 of Set 5 | butte\n",
      "Processing record 21 of Set 5 | nome\n",
      "Processing record 22 of Set 5 | port elizabeth\n",
      "Processing record 23 of Set 5 | basoko\n",
      "Processing record 24 of Set 5 | kodiak\n",
      "Processing record 25 of Set 5 | tari\n",
      "Processing record 26 of Set 5 | burnie\n",
      "Processing record 27 of Set 5 | egvekinot\n",
      "Processing record 28 of Set 5 | port hardy\n",
      "Processing record 29 of Set 5 | wagar\n",
      "Processing record 30 of Set 5 | paamiut\n",
      "Processing record 31 of Set 5 | berlevag\n",
      "Processing record 32 of Set 5 | mizdah\n",
      "Processing record 33 of Set 5 | ulaanbaatar\n",
      "Processing record 34 of Set 5 | kargopol\n",
      "City not found\n",
      "Processing record 35 of Set 5 | huarmey\n",
      "Processing record 36 of Set 5 | khanpur\n",
      "Processing record 37 of Set 5 | tuktoyaktuk\n",
      "Processing record 38 of Set 5 | cayenne\n",
      "City not found\n",
      "Processing record 39 of Set 5 | kutum\n",
      "Processing record 40 of Set 5 | ulaangom\n",
      "Processing record 41 of Set 5 | ambulu\n",
      "Processing record 42 of Set 5 | dunedin\n",
      "Processing record 43 of Set 5 | saintes\n",
      "Processing record 44 of Set 5 | hurghada\n",
      "Processing record 45 of Set 5 | amapa\n",
      "Processing record 46 of Set 5 | idenao\n",
      "Processing record 47 of Set 5 | bafq\n",
      "Processing record 48 of Set 5 | sosnovo-ozerskoye\n",
      "Processing record 49 of Set 5 | tautira\n",
      "Processing record 50 of Set 5 | sheridan\n",
      "Processing record 1 of Set 6 | ust-nera\n",
      "Processing record 2 of Set 6 | calnali\n",
      "Processing record 3 of Set 6 | omsukchan\n",
      "City not found\n",
      "Processing record 4 of Set 6 | uarini\n",
      "City not found\n",
      "Processing record 5 of Set 6 | waingapu\n",
      "Processing record 6 of Set 6 | mandalgovi\n",
      "Processing record 7 of Set 6 | cimarron hills\n",
      "Processing record 8 of Set 6 | sitka\n",
      "Processing record 9 of Set 6 | alta floresta\n",
      "Processing record 10 of Set 6 | lake cowichan\n",
      "Processing record 11 of Set 6 | blythe\n",
      "Processing record 12 of Set 6 | bulgan\n",
      "Processing record 13 of Set 6 | moose factory\n",
      "Processing record 14 of Set 6 | the valley\n",
      "Processing record 15 of Set 6 | solnechnyy\n",
      "City not found\n",
      "Processing record 16 of Set 6 | ozinki\n",
      "Processing record 17 of Set 6 | olinda\n",
      "Processing record 18 of Set 6 | corinto\n",
      "Processing record 19 of Set 6 | borogontsy\n",
      "Processing record 20 of Set 6 | chardara\n",
      "Processing record 21 of Set 6 | muros\n",
      "Processing record 22 of Set 6 | ulu-telyak\n",
      "City not found\n",
      "Processing record 23 of Set 6 | mpongwe\n",
      "Processing record 24 of Set 6 | hualmay\n",
      "Processing record 25 of Set 6 | broome\n",
      "Processing record 26 of Set 6 | quelimane\n",
      "Processing record 27 of Set 6 | menomonie\n",
      "Processing record 28 of Set 6 | ipswich\n",
      "Processing record 29 of Set 6 | semporna\n",
      "Processing record 30 of Set 6 | aswan\n",
      "Processing record 31 of Set 6 | pochutla\n",
      "City not found\n",
      "Processing record 32 of Set 6 | dubti\n",
      "Processing record 33 of Set 6 | codrington\n",
      "Processing record 34 of Set 6 | pravdinskiy\n",
      "Processing record 35 of Set 6 | meulaboh\n",
      "City not found\n",
      "Processing record 36 of Set 6 | sola\n",
      "Processing record 37 of Set 6 | tupik\n",
      "Processing record 38 of Set 6 | qeshm\n",
      "Processing record 39 of Set 6 | warmbad\n",
      "Processing record 40 of Set 6 | pisco\n",
      "Processing record 41 of Set 6 | den helder\n",
      "City not found\n",
      "Processing record 42 of Set 6 | komatipoort\n",
      "Processing record 43 of Set 6 | kenai\n",
      "Processing record 44 of Set 6 | gander\n",
      "Processing record 45 of Set 6 | hambantota\n",
      "Processing record 46 of Set 6 | kudat\n",
      "Processing record 47 of Set 6 | san jose\n",
      "Processing record 48 of Set 6 | luziania\n",
      "Processing record 49 of Set 6 | palmas bellas\n",
      "Processing record 50 of Set 6 | kananga\n",
      "Processing record 1 of Set 7 | tuatapere\n",
      "Processing record 2 of Set 7 | nokaneng\n",
      "Processing record 3 of Set 7 | oistins\n",
      "Processing record 4 of Set 7 | presidencia roque saenz pena\n",
      "Processing record 5 of Set 7 | camacha\n",
      "Processing record 6 of Set 7 | provideniya\n",
      "City not found\n",
      "Processing record 7 of Set 7 | beipiao\n",
      "Processing record 8 of Set 7 | inuvik\n",
      "Processing record 9 of Set 7 | tianpeng\n",
      "Processing record 10 of Set 7 | mayumba\n",
      "Processing record 11 of Set 7 | khalkhal\n",
      "Processing record 12 of Set 7 | lebyazhye\n",
      "City not found\n",
      "Processing record 13 of Set 7 | constantine\n",
      "Processing record 14 of Set 7 | lundazi\n",
      "Processing record 15 of Set 7 | ribeira grande\n",
      "Processing record 16 of Set 7 | luganville\n",
      "Processing record 17 of Set 7 | buala\n",
      "Processing record 18 of Set 7 | ust-ilimsk\n",
      "Processing record 19 of Set 7 | mumford\n",
      "Processing record 20 of Set 7 | sabang\n",
      "Processing record 21 of Set 7 | ixtapa\n",
      "Processing record 22 of Set 7 | los llanos de aridane\n",
      "Processing record 23 of Set 7 | hofn\n",
      "Processing record 24 of Set 7 | caravelas\n",
      "Processing record 25 of Set 7 | aden\n",
      "Processing record 26 of Set 7 | chuy\n",
      "Processing record 27 of Set 7 | puri\n",
      "Processing record 28 of Set 7 | pithapuram\n",
      "Processing record 29 of Set 7 | arles\n",
      "Processing record 30 of Set 7 | taungdwingyi\n",
      "Processing record 31 of Set 7 | husavik\n",
      "Processing record 32 of Set 7 | batamshinskiy\n",
      "Processing record 33 of Set 7 | pokhara\n",
      "Processing record 34 of Set 7 | tevriz\n",
      "Processing record 35 of Set 7 | moron\n",
      "Processing record 36 of Set 7 | saldanha\n",
      "Processing record 37 of Set 7 | ajdabiya\n",
      "Processing record 38 of Set 7 | parana\n",
      "Processing record 39 of Set 7 | parsons\n",
      "Processing record 40 of Set 7 | praya\n",
      "Processing record 41 of Set 7 | palmer\n",
      "Processing record 42 of Set 7 | dehloran\n",
      "Processing record 43 of Set 7 | kavaratti\n",
      "Processing record 44 of Set 7 | nanortalik\n",
      "Processing record 45 of Set 7 | bontang\n",
      "Processing record 46 of Set 7 | garden city\n",
      "Processing record 47 of Set 7 | los angeles\n",
      "Processing record 48 of Set 7 | lebu\n",
      "Processing record 49 of Set 7 | songea\n",
      "Processing record 50 of Set 7 | zabaykalsk\n",
      "City not found\n",
      "Processing record 1 of Set 8 | port moresby\n",
      "Processing record 2 of Set 8 | salalah\n",
      "Processing record 3 of Set 8 | matara\n",
      "Processing record 4 of Set 8 | rabo de peixe\n",
      "Processing record 5 of Set 8 | longyearbyen\n",
      "Processing record 6 of Set 8 | camabatela\n",
      "Processing record 7 of Set 8 | preobrazheniye\n",
      "Processing record 8 of Set 8 | perth\n",
      "Processing record 9 of Set 8 | nelson bay\n",
      "Processing record 10 of Set 8 | krasnoselkup\n",
      "Processing record 11 of Set 8 | necochea\n",
      "Processing record 12 of Set 8 | saint-jean-port-joli\n",
      "Processing record 13 of Set 8 | gobabis\n",
      "Processing record 14 of Set 8 | mazamari\n",
      "Processing record 15 of Set 8 | najran\n",
      "Processing record 16 of Set 8 | leningradskiy\n",
      "Processing record 17 of Set 8 | burgersdorp\n",
      "Processing record 18 of Set 8 | tual\n",
      "Processing record 19 of Set 8 | port blair\n",
      "Processing record 20 of Set 8 | san juan\n",
      "Processing record 21 of Set 8 | morden\n",
      "Processing record 22 of Set 8 | waipawa\n",
      "Processing record 23 of Set 8 | do gonbadan\n",
      "Processing record 24 of Set 8 | roros\n",
      "Processing record 25 of Set 8 | tuyen quang\n",
      "Processing record 26 of Set 8 | teahupoo\n",
      "Processing record 27 of Set 8 | ibipeba\n",
      "Processing record 28 of Set 8 | encruzilhada do sul\n",
      "Processing record 29 of Set 8 | chumikan\n",
      "Processing record 30 of Set 8 | porto novo\n",
      "Processing record 31 of Set 8 | komsomolskiy\n",
      "Processing record 32 of Set 8 | san policarpo\n",
      "Processing record 33 of Set 8 | kalabo\n",
      "Processing record 34 of Set 8 | vila franca do campo\n",
      "Processing record 35 of Set 8 | toyooka\n",
      "Processing record 36 of Set 8 | grindavik\n",
      "Processing record 37 of Set 8 | caibiran\n"
     ]
    },
    {
     "name": "stdout",
     "output_type": "stream",
     "text": [
      "Processing record 38 of Set 8 | tazovskiy\n",
      "Processing record 39 of Set 8 | kieta\n",
      "Processing record 40 of Set 8 | eureka\n",
      "Processing record 41 of Set 8 | atocha\n",
      "Processing record 42 of Set 8 | berlin\n",
      "Processing record 43 of Set 8 | dali\n",
      "Processing record 44 of Set 8 | san quintin\n",
      "Processing record 45 of Set 8 | umm lajj\n",
      "Processing record 46 of Set 8 | litovko\n",
      "Processing record 47 of Set 8 | yershov\n",
      "Processing record 48 of Set 8 | bilma\n",
      "Processing record 49 of Set 8 | zhanakorgan\n",
      "Processing record 50 of Set 8 | marion\n",
      "Processing record 1 of Set 9 | iquique\n",
      "Processing record 2 of Set 9 | balsas\n",
      "Processing record 3 of Set 9 | ballina\n",
      "Processing record 4 of Set 9 | ormara\n",
      "Processing record 5 of Set 9 | clyde river\n",
      "Processing record 6 of Set 9 | quatre cocos\n",
      "Processing record 7 of Set 9 | covington\n",
      "Processing record 8 of Set 9 | acarau\n",
      "Processing record 9 of Set 9 | kaz\n",
      "Processing record 10 of Set 9 | hirara\n",
      "Processing record 11 of Set 9 | sao borja\n",
      "Processing record 12 of Set 9 | pontes e lacerda\n",
      "Processing record 13 of Set 9 | chapais\n",
      "Processing record 14 of Set 9 | kalawit\n",
      "Processing record 15 of Set 9 | pueblo\n",
      "Processing record 16 of Set 9 | mbandaka\n",
      "Processing record 17 of Set 9 | abashiri\n",
      "Processing record 18 of Set 9 | kahului\n",
      "Processing record 19 of Set 9 | lanzhou\n",
      "Processing record 20 of Set 9 | mtwara\n",
      "Processing record 21 of Set 9 | kiama\n",
      "Processing record 22 of Set 9 | saint-pierre\n",
      "Processing record 23 of Set 9 | hervey bay\n",
      "Processing record 24 of Set 9 | vaitape\n",
      "Processing record 25 of Set 9 | bogalusa\n",
      "Processing record 26 of Set 9 | sikar\n",
      "Processing record 27 of Set 9 | atar\n",
      "Processing record 28 of Set 9 | kavieng\n",
      "City not found\n",
      "Processing record 29 of Set 9 | pafos\n",
      "City not found\n",
      "Processing record 30 of Set 9 | locri\n",
      "Processing record 31 of Set 9 | radcliff\n",
      "Processing record 32 of Set 9 | santo tomas\n",
      "Processing record 33 of Set 9 | aykhal\n",
      "Processing record 34 of Set 9 | inhambane\n",
      "Processing record 35 of Set 9 | samarai\n",
      "Processing record 36 of Set 9 | road town\n",
      "Processing record 37 of Set 9 | ararat\n",
      "Processing record 38 of Set 9 | grand gaube\n",
      "Processing record 39 of Set 9 | kerema\n",
      "Processing record 40 of Set 9 | ronne\n",
      "Processing record 41 of Set 9 | carbonia\n",
      "Processing record 42 of Set 9 | constitucion\n",
      "Processing record 43 of Set 9 | carpinteria\n",
      "Processing record 44 of Set 9 | smithers\n",
      "Processing record 45 of Set 9 | la ronge\n",
      "Processing record 46 of Set 9 | maceio\n",
      "Processing record 47 of Set 9 | juegang\n",
      "Processing record 48 of Set 9 | pechenga\n",
      "Processing record 49 of Set 9 | zwedru\n",
      "Processing record 50 of Set 9 | nogliki\n",
      "Processing record 1 of Set 10 | japura\n",
      "Processing record 2 of Set 10 | neiafu\n",
      "Processing record 3 of Set 10 | mathathane\n",
      "Processing record 4 of Set 10 | cockburn town\n",
      "Processing record 5 of Set 10 | bestobe\n",
      "Processing record 6 of Set 10 | puerto plata\n",
      "Processing record 7 of Set 10 | santa fe\n",
      "Processing record 8 of Set 10 | caxito\n",
      "Processing record 9 of Set 10 | tarakan\n",
      "Processing record 10 of Set 10 | la romana\n",
      "Processing record 11 of Set 10 | hamilton\n",
      "Processing record 12 of Set 10 | itacoatiara\n",
      "Processing record 13 of Set 10 | zhemtala\n",
      "Processing record 14 of Set 10 | bemidji\n",
      "Processing record 15 of Set 10 | kibre mengist\n",
      "Processing record 16 of Set 10 | kirakira\n",
      "Processing record 17 of Set 10 | karratha\n",
      "Processing record 18 of Set 10 | antofagasta\n",
      "Processing record 19 of Set 10 | sarangani\n",
      "Processing record 20 of Set 10 | laguna\n",
      "Processing record 21 of Set 10 | hasaki\n",
      "Processing record 22 of Set 10 | sohag\n",
      "Processing record 23 of Set 10 | labuhan\n",
      "Processing record 24 of Set 10 | dubovskoye\n",
      "Processing record 25 of Set 10 | bonnyville\n",
      "Processing record 26 of Set 10 | beloha\n",
      "Processing record 27 of Set 10 | canutama\n",
      "Processing record 28 of Set 10 | naze\n",
      "Processing record 29 of Set 10 | kangaatsiaq\n",
      "City not found\n",
      "Processing record 30 of Set 10 | glinka\n",
      "City not found\n",
      "Processing record 31 of Set 10 | socond\n",
      "City not found\n",
      "Processing record 32 of Set 10 | teknaf\n",
      "Processing record 33 of Set 10 | poronaysk\n",
      "Processing record 34 of Set 10 | impruneta\n",
      "Processing record 35 of Set 10 | bonavista\n",
      "Processing record 36 of Set 10 | fort nelson\n",
      "Processing record 37 of Set 10 | gigmoto\n",
      "Processing record 38 of Set 10 | faya\n",
      "Processing record 39 of Set 10 | hvide sande\n",
      "Processing record 40 of Set 10 | ondjiva\n",
      "Processing record 41 of Set 10 | moche\n",
      "Processing record 42 of Set 10 | fare\n",
      "Processing record 43 of Set 10 | strelka\n",
      "Processing record 44 of Set 10 | kholm\n",
      "Processing record 45 of Set 10 | nantucket\n",
      "City not found\n",
      "Processing record 46 of Set 10 | kamenka\n",
      "City not found\n",
      "Processing record 47 of Set 10 | trondheim\n",
      "Processing record 48 of Set 10 | thinadhoo\n",
      "Processing record 49 of Set 10 | nalut\n",
      "Processing record 50 of Set 10 | san felipe\n",
      "Processing record 1 of Set 11 | chor\n",
      "Processing record 2 of Set 11 | bowen\n",
      "Processing record 3 of Set 11 | comodoro rivadavia\n",
      "Processing record 4 of Set 11 | mount isa\n",
      "Processing record 5 of Set 11 | santa barbara\n",
      "Processing record 6 of Set 11 | aquiraz\n",
      "Processing record 7 of Set 11 | yar-sale\n",
      "Processing record 8 of Set 11 | slavsk\n",
      "Processing record 9 of Set 11 | cotoca\n",
      "City not found\n",
      "Processing record 10 of Set 11 | kristiansand\n",
      "Processing record 11 of Set 11 | fairbanks\n",
      "Processing record 12 of Set 11 | zhigansk\n",
      "Processing record 13 of Set 11 | marovoay\n",
      "Processing record 14 of Set 11 | nara\n",
      "Processing record 15 of Set 11 | antoniny\n",
      "Processing record 16 of Set 11 | fort-shevchenko\n",
      "Processing record 17 of Set 11 | sisimiut\n",
      "Processing record 18 of Set 11 | mamontovo\n",
      "Processing record 19 of Set 11 | ugoofaaru\n",
      "Processing record 20 of Set 11 | gelemso\n",
      "Processing record 21 of Set 11 | sancraieni\n",
      "City not found\n",
      "Processing record 22 of Set 11 | wuwei\n",
      "Processing record 23 of Set 11 | christchurch\n",
      "Processing record 24 of Set 11 | piranhas\n",
      "Processing record 25 of Set 11 | belmonte\n",
      "Processing record 26 of Set 11 | port hedland\n",
      "Processing record 27 of Set 11 | sterlibashevo\n",
      "Processing record 28 of Set 11 | gushikawa\n",
      "Processing record 29 of Set 11 | tumut\n",
      "Processing record 30 of Set 11 | karpathos\n",
      "Processing record 31 of Set 11 | cap-aux-meules\n",
      "Processing record 32 of Set 11 | dukat\n",
      "Processing record 33 of Set 11 | isla mujeres\n",
      "Processing record 34 of Set 11 | henties bay\n",
      "City not found\n",
      "Processing record 35 of Set 11 | chegdomyn\n",
      "Processing record 36 of Set 11 | leninskoye\n",
      "Processing record 37 of Set 11 | newport\n",
      "Processing record 38 of Set 11 | el sauce\n",
      "Processing record 39 of Set 11 | vila velha\n",
      "Processing record 40 of Set 11 | high prairie\n",
      "Processing record 41 of Set 11 | rassvet\n",
      "Processing record 42 of Set 11 | barra\n",
      "Processing record 43 of Set 11 | barrhead\n",
      "Processing record 44 of Set 11 | hannibal\n",
      "Processing record 45 of Set 11 | kruisfontein\n",
      "Processing record 46 of Set 11 | dunmore east\n",
      "Processing record 47 of Set 11 | kolyvan\n",
      "Processing record 48 of Set 11 | puerto carreno\n",
      "City not found\n",
      "Processing record 49 of Set 11 | iskateley\n",
      "Processing record 50 of Set 11 | vagur\n",
      "Processing record 1 of Set 12 | prince rupert\n",
      "Processing record 2 of Set 12 | tonota\n",
      "Processing record 3 of Set 12 | sidi ali\n",
      "Processing record 4 of Set 12 | kaitangata\n",
      "Processing record 5 of Set 12 | mirabad\n",
      "Processing record 6 of Set 12 | talcahuano\n",
      "Processing record 7 of Set 12 | wamba\n",
      "Processing record 8 of Set 12 | madimba\n",
      "Processing record 9 of Set 12 | tura\n",
      "Processing record 10 of Set 12 | contai\n",
      "Processing record 11 of Set 12 | siocon\n",
      "Processing record 12 of Set 12 | pamplona\n",
      "Processing record 13 of Set 12 | pavlodar\n",
      "Processing record 14 of Set 12 | ketchikan\n",
      "Processing record 15 of Set 12 | angoche\n",
      "Processing record 16 of Set 12 | strezhevoy\n",
      "Processing record 17 of Set 12 | dubbo\n",
      "Processing record 18 of Set 12 | ostrovnoy\n",
      "Processing record 19 of Set 12 | san miguel\n",
      "Processing record 20 of Set 12 | tahta\n",
      "Processing record 21 of Set 12 | dovers\n",
      "Processing record 22 of Set 12 | acapulco\n",
      "Processing record 23 of Set 12 | ossora\n",
      "Processing record 24 of Set 12 | whitehorse\n",
      "Processing record 25 of Set 12 | weirton\n",
      "Processing record 26 of Set 12 | inta\n",
      "City not found\n",
      "Processing record 27 of Set 12 | piacabucu\n",
      "Processing record 28 of Set 12 | mossendjo\n",
      "Processing record 29 of Set 12 | mae hong son\n",
      "Processing record 30 of Set 12 | ternate\n",
      "Processing record 31 of Set 12 | weyburn\n"
     ]
    },
    {
     "name": "stdout",
     "output_type": "stream",
     "text": [
      "Processing record 32 of Set 12 | milos\n",
      "Processing record 33 of Set 12 | xichang\n",
      "Processing record 34 of Set 12 | thaba nchu\n",
      "Processing record 35 of Set 12 | sydney\n",
      "Processing record 36 of Set 12 | siquirres\n"
     ]
    }
   ],
   "source": [
    "# Perform a weather check on each city using a series of successive API calls.\n",
    "# Include a print log of each city as it'sbeing processed (with the city number and city name).\n",
    "\n",
    "url = \"http://api.openweathermap.org/data/2.5/weather?\"\n",
    "record_counter = 0\n",
    "set_counter = 1\n",
    "weather_data = []\n",
    "for city in cities:\n",
    "    try:\n",
    "        query_url = f'{url}appid={weather_api_key}&q={city}&units=imperial'\n",
    "        weather_response = requests.get(query_url).json()\n",
    "        data = {\n",
    "            \"City\": city,\n",
    "            \"Latitude\": weather_response[\"coord\"][\"lat\"],\n",
    "            \"Longitude\": weather_response[\"coord\"][\"lon\"],\n",
    "            \"Max Temp\": weather_response[\"main\"][\"temp_max\"],\n",
    "            \"Humidity\": weather_response[\"main\"][\"humidity\"],\n",
    "            \"Cloudiness\":weather_response[\"clouds\"][\"all\"],\n",
    "            \"Wind Speed\":weather_response[\"wind\"][\"speed\"],\n",
    "            \"Country\":weather_response[\"sys\"][\"country\"],\n",
    "            \"Date\":weather_response[\"dt\"]\n",
    "        }\n",
    "        weather_data.append(data)\n",
    "        record_counter += 1\n",
    "        if record_counter > 50:\n",
    "            set_counter += 1\n",
    "            record_counter = 1\n",
    "        print(f'Processing record {record_counter} of Set {set_counter} | {city}')\n",
    "    except:\n",
    "        print(\"City not found\")\n"
   ]
  },
  {
   "cell_type": "markdown",
   "metadata": {},
   "source": [
    " ## Convert Raw Data to DataFrame"
   ]
  },
  {
   "cell_type": "code",
   "execution_count": 103,
   "metadata": {},
   "outputs": [
    {
     "data": {
      "text/html": [
       "<div>\n",
       "<style scoped>\n",
       "    .dataframe tbody tr th:only-of-type {\n",
       "        vertical-align: middle;\n",
       "    }\n",
       "\n",
       "    .dataframe tbody tr th {\n",
       "        vertical-align: top;\n",
       "    }\n",
       "\n",
       "    .dataframe thead th {\n",
       "        text-align: right;\n",
       "    }\n",
       "</style>\n",
       "<table border=\"1\" class=\"dataframe\">\n",
       "  <thead>\n",
       "    <tr style=\"text-align: right;\">\n",
       "      <th></th>\n",
       "      <th>City</th>\n",
       "      <th>Latitude</th>\n",
       "      <th>Longitude</th>\n",
       "      <th>Max Temp</th>\n",
       "      <th>Humidity</th>\n",
       "      <th>Cloudiness</th>\n",
       "      <th>Wind Speed</th>\n",
       "      <th>Country</th>\n",
       "      <th>Date</th>\n",
       "    </tr>\n",
       "  </thead>\n",
       "  <tbody>\n",
       "    <tr>\n",
       "      <th>0</th>\n",
       "      <td>sao filipe</td>\n",
       "      <td>14.90</td>\n",
       "      <td>-24.50</td>\n",
       "      <td>78.98</td>\n",
       "      <td>66</td>\n",
       "      <td>80</td>\n",
       "      <td>7.20</td>\n",
       "      <td>CV</td>\n",
       "      <td>1605848346</td>\n",
       "    </tr>\n",
       "    <tr>\n",
       "      <th>1</th>\n",
       "      <td>bay roberts</td>\n",
       "      <td>47.60</td>\n",
       "      <td>-53.26</td>\n",
       "      <td>28.00</td>\n",
       "      <td>58</td>\n",
       "      <td>90</td>\n",
       "      <td>20.80</td>\n",
       "      <td>CA</td>\n",
       "      <td>1605848346</td>\n",
       "    </tr>\n",
       "    <tr>\n",
       "      <th>2</th>\n",
       "      <td>skjervoy</td>\n",
       "      <td>70.03</td>\n",
       "      <td>20.97</td>\n",
       "      <td>33.80</td>\n",
       "      <td>69</td>\n",
       "      <td>75</td>\n",
       "      <td>28.86</td>\n",
       "      <td>NO</td>\n",
       "      <td>1605848150</td>\n",
       "    </tr>\n",
       "    <tr>\n",
       "      <th>3</th>\n",
       "      <td>vestmannaeyjar</td>\n",
       "      <td>63.44</td>\n",
       "      <td>-20.27</td>\n",
       "      <td>44.22</td>\n",
       "      <td>67</td>\n",
       "      <td>92</td>\n",
       "      <td>15.61</td>\n",
       "      <td>IS</td>\n",
       "      <td>1605848346</td>\n",
       "    </tr>\n",
       "    <tr>\n",
       "      <th>4</th>\n",
       "      <td>vardo</td>\n",
       "      <td>70.37</td>\n",
       "      <td>31.11</td>\n",
       "      <td>35.60</td>\n",
       "      <td>80</td>\n",
       "      <td>40</td>\n",
       "      <td>21.92</td>\n",
       "      <td>NO</td>\n",
       "      <td>1605848346</td>\n",
       "    </tr>\n",
       "  </tbody>\n",
       "</table>\n",
       "</div>"
      ],
      "text/plain": [
       "             City  Latitude  Longitude  Max Temp  Humidity  Cloudiness  \\\n",
       "0      sao filipe     14.90     -24.50     78.98        66          80   \n",
       "1     bay roberts     47.60     -53.26     28.00        58          90   \n",
       "2        skjervoy     70.03      20.97     33.80        69          75   \n",
       "3  vestmannaeyjar     63.44     -20.27     44.22        67          92   \n",
       "4           vardo     70.37      31.11     35.60        80          40   \n",
       "\n",
       "   Wind Speed Country        Date  \n",
       "0        7.20      CV  1605848346  \n",
       "1       20.80      CA  1605848346  \n",
       "2       28.86      NO  1605848150  \n",
       "3       15.61      IS  1605848346  \n",
       "4       21.92      NO  1605848346  "
      ]
     },
     "execution_count": 103,
     "metadata": {},
     "output_type": "execute_result"
    }
   ],
   "source": [
    "city_df = pd.DataFrame(weather_data)\n",
    "\n",
    "# Export the city data into a .csv.\n",
    "output_data_file = city_df.to_csv(\"output_data/cities.csv\",index=False)\n",
    "\n",
    "# Display the DataFrame\n",
    "city_df.head()"
   ]
  },
  {
   "cell_type": "code",
   "execution_count": 100,
   "metadata": {},
   "outputs": [
    {
     "data": {
      "text/html": [
       "<div>\n",
       "<style scoped>\n",
       "    .dataframe tbody tr th:only-of-type {\n",
       "        vertical-align: middle;\n",
       "    }\n",
       "\n",
       "    .dataframe tbody tr th {\n",
       "        vertical-align: top;\n",
       "    }\n",
       "\n",
       "    .dataframe thead th {\n",
       "        text-align: right;\n",
       "    }\n",
       "</style>\n",
       "<table border=\"1\" class=\"dataframe\">\n",
       "  <thead>\n",
       "    <tr style=\"text-align: right;\">\n",
       "      <th></th>\n",
       "      <th>Latitude</th>\n",
       "      <th>Longitude</th>\n",
       "      <th>Max Temp</th>\n",
       "      <th>Humidity</th>\n",
       "      <th>Cloudiness</th>\n",
       "      <th>Wind Speed</th>\n",
       "      <th>Date</th>\n",
       "    </tr>\n",
       "  </thead>\n",
       "  <tbody>\n",
       "    <tr>\n",
       "      <th>count</th>\n",
       "      <td>586.000000</td>\n",
       "      <td>586.000000</td>\n",
       "      <td>586.00000</td>\n",
       "      <td>586.000000</td>\n",
       "      <td>586.000000</td>\n",
       "      <td>586.000000</td>\n",
       "      <td>5.860000e+02</td>\n",
       "    </tr>\n",
       "    <tr>\n",
       "      <th>mean</th>\n",
       "      <td>19.467048</td>\n",
       "      <td>14.082952</td>\n",
       "      <td>56.31884</td>\n",
       "      <td>73.870307</td>\n",
       "      <td>51.861775</td>\n",
       "      <td>8.756177</td>\n",
       "      <td>1.605848e+09</td>\n",
       "    </tr>\n",
       "    <tr>\n",
       "      <th>std</th>\n",
       "      <td>33.193811</td>\n",
       "      <td>91.185557</td>\n",
       "      <td>25.07861</td>\n",
       "      <td>19.600634</td>\n",
       "      <td>38.421010</td>\n",
       "      <td>6.075489</td>\n",
       "      <td>9.851998e+01</td>\n",
       "    </tr>\n",
       "    <tr>\n",
       "      <th>min</th>\n",
       "      <td>-54.800000</td>\n",
       "      <td>-179.170000</td>\n",
       "      <td>-19.32000</td>\n",
       "      <td>1.000000</td>\n",
       "      <td>0.000000</td>\n",
       "      <td>0.360000</td>\n",
       "      <td>1.605848e+09</td>\n",
       "    </tr>\n",
       "    <tr>\n",
       "      <th>25%</th>\n",
       "      <td>-9.312500</td>\n",
       "      <td>-65.560000</td>\n",
       "      <td>37.40000</td>\n",
       "      <td>65.000000</td>\n",
       "      <td>13.250000</td>\n",
       "      <td>4.215000</td>\n",
       "      <td>1.605848e+09</td>\n",
       "    </tr>\n",
       "    <tr>\n",
       "      <th>50%</th>\n",
       "      <td>22.785000</td>\n",
       "      <td>19.980000</td>\n",
       "      <td>62.01000</td>\n",
       "      <td>78.000000</td>\n",
       "      <td>54.500000</td>\n",
       "      <td>7.295000</td>\n",
       "      <td>1.605848e+09</td>\n",
       "    </tr>\n",
       "    <tr>\n",
       "      <th>75%</th>\n",
       "      <td>47.877500</td>\n",
       "      <td>95.492500</td>\n",
       "      <td>77.00000</td>\n",
       "      <td>89.000000</td>\n",
       "      <td>90.000000</td>\n",
       "      <td>11.940000</td>\n",
       "      <td>1.605848e+09</td>\n",
       "    </tr>\n",
       "    <tr>\n",
       "      <th>max</th>\n",
       "      <td>78.220000</td>\n",
       "      <td>178.420000</td>\n",
       "      <td>100.40000</td>\n",
       "      <td>100.000000</td>\n",
       "      <td>100.000000</td>\n",
       "      <td>37.000000</td>\n",
       "      <td>1.605849e+09</td>\n",
       "    </tr>\n",
       "  </tbody>\n",
       "</table>\n",
       "</div>"
      ],
      "text/plain": [
       "         Latitude   Longitude   Max Temp    Humidity  Cloudiness  Wind Speed  \\\n",
       "count  586.000000  586.000000  586.00000  586.000000  586.000000  586.000000   \n",
       "mean    19.467048   14.082952   56.31884   73.870307   51.861775    8.756177   \n",
       "std     33.193811   91.185557   25.07861   19.600634   38.421010    6.075489   \n",
       "min    -54.800000 -179.170000  -19.32000    1.000000    0.000000    0.360000   \n",
       "25%     -9.312500  -65.560000   37.40000   65.000000   13.250000    4.215000   \n",
       "50%     22.785000   19.980000   62.01000   78.000000   54.500000    7.295000   \n",
       "75%     47.877500   95.492500   77.00000   89.000000   90.000000   11.940000   \n",
       "max     78.220000  178.420000  100.40000  100.000000  100.000000   37.000000   \n",
       "\n",
       "               Date  \n",
       "count  5.860000e+02  \n",
       "mean   1.605848e+09  \n",
       "std    9.851998e+01  \n",
       "min    1.605848e+09  \n",
       "25%    1.605848e+09  \n",
       "50%    1.605848e+09  \n",
       "75%    1.605848e+09  \n",
       "max    1.605849e+09  "
      ]
     },
     "execution_count": 100,
     "metadata": {},
     "output_type": "execute_result"
    }
   ],
   "source": [
    "# Describing the dataset\n",
    "city_df.describe()"
   ]
  },
  {
   "cell_type": "markdown",
   "metadata": {},
   "source": [
    "## Inspect the data and remove the cities where the humidity > 100%."
   ]
  },
  {
   "cell_type": "code",
   "execution_count": 104,
   "metadata": {},
   "outputs": [
    {
     "data": {
      "text/html": [
       "<div>\n",
       "<style scoped>\n",
       "    .dataframe tbody tr th:only-of-type {\n",
       "        vertical-align: middle;\n",
       "    }\n",
       "\n",
       "    .dataframe tbody tr th {\n",
       "        vertical-align: top;\n",
       "    }\n",
       "\n",
       "    .dataframe thead th {\n",
       "        text-align: right;\n",
       "    }\n",
       "</style>\n",
       "<table border=\"1\" class=\"dataframe\">\n",
       "  <thead>\n",
       "    <tr style=\"text-align: right;\">\n",
       "      <th></th>\n",
       "      <th>City</th>\n",
       "      <th>Latitude</th>\n",
       "      <th>Longitude</th>\n",
       "      <th>Max Temp</th>\n",
       "      <th>Humidity</th>\n",
       "      <th>Cloudiness</th>\n",
       "      <th>Wind Speed</th>\n",
       "      <th>Country</th>\n",
       "      <th>Date</th>\n",
       "    </tr>\n",
       "  </thead>\n",
       "  <tbody>\n",
       "    <tr>\n",
       "      <th>0</th>\n",
       "      <td>sao filipe</td>\n",
       "      <td>14.90</td>\n",
       "      <td>-24.50</td>\n",
       "      <td>78.98</td>\n",
       "      <td>66</td>\n",
       "      <td>80</td>\n",
       "      <td>7.20</td>\n",
       "      <td>CV</td>\n",
       "      <td>1605848346</td>\n",
       "    </tr>\n",
       "    <tr>\n",
       "      <th>1</th>\n",
       "      <td>bay roberts</td>\n",
       "      <td>47.60</td>\n",
       "      <td>-53.26</td>\n",
       "      <td>28.00</td>\n",
       "      <td>58</td>\n",
       "      <td>90</td>\n",
       "      <td>20.80</td>\n",
       "      <td>CA</td>\n",
       "      <td>1605848346</td>\n",
       "    </tr>\n",
       "    <tr>\n",
       "      <th>2</th>\n",
       "      <td>skjervoy</td>\n",
       "      <td>70.03</td>\n",
       "      <td>20.97</td>\n",
       "      <td>33.80</td>\n",
       "      <td>69</td>\n",
       "      <td>75</td>\n",
       "      <td>28.86</td>\n",
       "      <td>NO</td>\n",
       "      <td>1605848150</td>\n",
       "    </tr>\n",
       "    <tr>\n",
       "      <th>3</th>\n",
       "      <td>vestmannaeyjar</td>\n",
       "      <td>63.44</td>\n",
       "      <td>-20.27</td>\n",
       "      <td>44.22</td>\n",
       "      <td>67</td>\n",
       "      <td>92</td>\n",
       "      <td>15.61</td>\n",
       "      <td>IS</td>\n",
       "      <td>1605848346</td>\n",
       "    </tr>\n",
       "    <tr>\n",
       "      <th>4</th>\n",
       "      <td>vardo</td>\n",
       "      <td>70.37</td>\n",
       "      <td>31.11</td>\n",
       "      <td>35.60</td>\n",
       "      <td>80</td>\n",
       "      <td>40</td>\n",
       "      <td>21.92</td>\n",
       "      <td>NO</td>\n",
       "      <td>1605848346</td>\n",
       "    </tr>\n",
       "  </tbody>\n",
       "</table>\n",
       "</div>"
      ],
      "text/plain": [
       "             City  Latitude  Longitude  Max Temp  Humidity  Cloudiness  \\\n",
       "0      sao filipe     14.90     -24.50     78.98        66          80   \n",
       "1     bay roberts     47.60     -53.26     28.00        58          90   \n",
       "2        skjervoy     70.03      20.97     33.80        69          75   \n",
       "3  vestmannaeyjar     63.44     -20.27     44.22        67          92   \n",
       "4           vardo     70.37      31.11     35.60        80          40   \n",
       "\n",
       "   Wind Speed Country        Date  \n",
       "0        7.20      CV  1605848346  \n",
       "1       20.80      CA  1605848346  \n",
       "2       28.86      NO  1605848150  \n",
       "3       15.61      IS  1605848346  \n",
       "4       21.92      NO  1605848346  "
      ]
     },
     "execution_count": 104,
     "metadata": {},
     "output_type": "execute_result"
    }
   ],
   "source": [
    "# Drop cities that have humidity over 100%\n",
    "low_humidity_city = city_df[(city_df['Humidity'] < 100)]\n",
    "low_humidity_city.head()"
   ]
  },
  {
   "cell_type": "code",
   "execution_count": 105,
   "metadata": {},
   "outputs": [
    {
     "data": {
      "text/html": [
       "<div>\n",
       "<style scoped>\n",
       "    .dataframe tbody tr th:only-of-type {\n",
       "        vertical-align: middle;\n",
       "    }\n",
       "\n",
       "    .dataframe tbody tr th {\n",
       "        vertical-align: top;\n",
       "    }\n",
       "\n",
       "    .dataframe thead th {\n",
       "        text-align: right;\n",
       "    }\n",
       "</style>\n",
       "<table border=\"1\" class=\"dataframe\">\n",
       "  <thead>\n",
       "    <tr style=\"text-align: right;\">\n",
       "      <th></th>\n",
       "      <th>Latitude</th>\n",
       "      <th>Longitude</th>\n",
       "      <th>Max Temp</th>\n",
       "      <th>Humidity</th>\n",
       "      <th>Cloudiness</th>\n",
       "      <th>Wind Speed</th>\n",
       "      <th>Date</th>\n",
       "    </tr>\n",
       "  </thead>\n",
       "  <tbody>\n",
       "    <tr>\n",
       "      <th>count</th>\n",
       "      <td>570.000000</td>\n",
       "      <td>570.000000</td>\n",
       "      <td>570.000000</td>\n",
       "      <td>570.000000</td>\n",
       "      <td>570.000000</td>\n",
       "      <td>570.000000</td>\n",
       "      <td>5.700000e+02</td>\n",
       "    </tr>\n",
       "    <tr>\n",
       "      <th>mean</th>\n",
       "      <td>19.381105</td>\n",
       "      <td>15.971684</td>\n",
       "      <td>56.358386</td>\n",
       "      <td>73.136842</td>\n",
       "      <td>51.812281</td>\n",
       "      <td>8.870018</td>\n",
       "      <td>1.605848e+09</td>\n",
       "    </tr>\n",
       "    <tr>\n",
       "      <th>std</th>\n",
       "      <td>33.440678</td>\n",
       "      <td>91.227353</td>\n",
       "      <td>25.286702</td>\n",
       "      <td>19.371374</td>\n",
       "      <td>38.536608</td>\n",
       "      <td>6.095791</td>\n",
       "      <td>9.953703e+01</td>\n",
       "    </tr>\n",
       "    <tr>\n",
       "      <th>min</th>\n",
       "      <td>-54.800000</td>\n",
       "      <td>-179.170000</td>\n",
       "      <td>-19.320000</td>\n",
       "      <td>1.000000</td>\n",
       "      <td>0.000000</td>\n",
       "      <td>0.360000</td>\n",
       "      <td>1.605848e+09</td>\n",
       "    </tr>\n",
       "    <tr>\n",
       "      <th>25%</th>\n",
       "      <td>-9.765000</td>\n",
       "      <td>-64.177500</td>\n",
       "      <td>37.400000</td>\n",
       "      <td>64.000000</td>\n",
       "      <td>11.250000</td>\n",
       "      <td>4.425000</td>\n",
       "      <td>1.605848e+09</td>\n",
       "    </tr>\n",
       "    <tr>\n",
       "      <th>50%</th>\n",
       "      <td>23.045000</td>\n",
       "      <td>21.975000</td>\n",
       "      <td>62.190000</td>\n",
       "      <td>78.000000</td>\n",
       "      <td>55.000000</td>\n",
       "      <td>7.495000</td>\n",
       "      <td>1.605848e+09</td>\n",
       "    </tr>\n",
       "    <tr>\n",
       "      <th>75%</th>\n",
       "      <td>48.465000</td>\n",
       "      <td>98.180000</td>\n",
       "      <td>77.000000</td>\n",
       "      <td>88.000000</td>\n",
       "      <td>90.000000</td>\n",
       "      <td>12.080000</td>\n",
       "      <td>1.605848e+09</td>\n",
       "    </tr>\n",
       "    <tr>\n",
       "      <th>max</th>\n",
       "      <td>78.220000</td>\n",
       "      <td>178.420000</td>\n",
       "      <td>100.400000</td>\n",
       "      <td>99.000000</td>\n",
       "      <td>100.000000</td>\n",
       "      <td>37.000000</td>\n",
       "      <td>1.605849e+09</td>\n",
       "    </tr>\n",
       "  </tbody>\n",
       "</table>\n",
       "</div>"
      ],
      "text/plain": [
       "         Latitude   Longitude    Max Temp    Humidity  Cloudiness  Wind Speed  \\\n",
       "count  570.000000  570.000000  570.000000  570.000000  570.000000  570.000000   \n",
       "mean    19.381105   15.971684   56.358386   73.136842   51.812281    8.870018   \n",
       "std     33.440678   91.227353   25.286702   19.371374   38.536608    6.095791   \n",
       "min    -54.800000 -179.170000  -19.320000    1.000000    0.000000    0.360000   \n",
       "25%     -9.765000  -64.177500   37.400000   64.000000   11.250000    4.425000   \n",
       "50%     23.045000   21.975000   62.190000   78.000000   55.000000    7.495000   \n",
       "75%     48.465000   98.180000   77.000000   88.000000   90.000000   12.080000   \n",
       "max     78.220000  178.420000  100.400000   99.000000  100.000000   37.000000   \n",
       "\n",
       "               Date  \n",
       "count  5.700000e+02  \n",
       "mean   1.605848e+09  \n",
       "std    9.953703e+01  \n",
       "min    1.605848e+09  \n",
       "25%    1.605848e+09  \n",
       "50%    1.605848e+09  \n",
       "75%    1.605848e+09  \n",
       "max    1.605849e+09  "
      ]
     },
     "execution_count": 105,
     "metadata": {},
     "output_type": "execute_result"
    }
   ],
   "source": [
    "# Describe new dataset without cities that have humidity over 100%\n",
    "\n",
    "low_humidity_city.describe()"
   ]
  },
  {
   "cell_type": "code",
   "execution_count": 109,
   "metadata": {},
   "outputs": [
    {
     "data": {
      "text/plain": [
       "[63, 86, 134, 171, 180, 227, 237, 245, 251, 259, 297, 355, 412, 445, 462, 487]"
      ]
     },
     "execution_count": 109,
     "metadata": {},
     "output_type": "execute_result"
    }
   ],
   "source": [
    "# Print indices of cities with humidity over 100%\n",
    "city_index = city_df.loc[(city_df[\"Humidity\"] >= 100)]\n",
    "list(city_index.index)"
   ]
  },
  {
   "cell_type": "markdown",
   "metadata": {},
   "source": [
    "## Plotting the Data"
   ]
  },
  {
   "cell_type": "markdown",
   "metadata": {},
   "source": [
    "### Latitude vs. Temperature Plot"
   ]
  },
  {
   "cell_type": "code",
   "execution_count": 155,
   "metadata": {
    "scrolled": true
   },
   "outputs": [
    {
     "data": {
      "image/png": "[encoded data removed]",
      "text/plain": [
       "<Figure size 432x288 with 1 Axes>"
      ]
     },
     "metadata": {
      "needs_background": "light"
     },
     "output_type": "display_data"
    }
   ],
   "source": [
    "# Plotting the Data\n",
    "# Use proper labeling of the plots using plot titles (including date of analysis) and axes labels.\n",
    "# Save the plotted figures as .pngs.\n",
    "# Latitude vs. Temperature Plot\n",
    "\n",
    "latitude = low_humidity_city[\"Latitude\"]\n",
    "temperature = low_humidity_city[\"Max Temp\"]\n",
    "\n",
    "plt.scatter(latitude, temperature,color=\"g\",edgecolors=\"b\")\n",
    "plt.xlabel(\"Latitude\")\n",
    "plt.ylabel(\"Temperature\")\n",
    "plt.title(\"City Latitude vs. Max Temperature (11/20/2020)\")\n",
    "plt.grid()\n",
    "plt.savefig(\"output_data/lat_temp.png\")\n",
    "plt.show()"
   ]
  },
  {
   "cell_type": "markdown",
   "metadata": {},
   "source": [
    "#### This graph illustrates that the closer the cities that are closer to the south pole have higher temperature and cities that are further from the equator have lower temperature."
   ]
  },
  {
   "cell_type": "markdown",
   "metadata": {},
   "source": [
    "### Latitude vs. Humidity Plot"
   ]
  },
  {
   "cell_type": "code",
   "execution_count": 119,
   "metadata": {},
   "outputs": [
    {
     "data": {
      "image/png": "[encoded data removed]",
      "text/plain": [
       "<Figure size 432x288 with 1 Axes>"
      ]
     },
     "metadata": {
      "needs_background": "light"
     },
     "output_type": "display_data"
    }
   ],
   "source": [
    "# Latitude vs. Humidity Plot\n",
    "latitude = low_humidity_city[\"Latitude\"]\n",
    "humidity = low_humidity_city[\"Humidity\"]\n",
    "\n",
    "plt.scatter(latitude, humidity,color=\"g\",edgecolors=\"b\")\n",
    "plt.xlabel(\"Latitude\")\n",
    "plt.ylabel(\"Humidity\")\n",
    "plt.title(\"City Latitude vs. Humidity (11/20/2020)\")\n",
    "plt.grid()\n",
    "plt.savefig(\"output_data/lat_humidity.png\")\n",
    "plt.show()"
   ]
  },
  {
   "cell_type": "markdown",
   "metadata": {},
   "source": [
    "#### The graph above shows that there is weak correlation between between lattitude and humidity. However, there seems to be concentration of cities around the latitude of 60 and humidity between 80 and 100. This shows that there are more locations with high humidity the further it is above the equator."
   ]
  },
  {
   "cell_type": "markdown",
   "metadata": {},
   "source": [
    "### Latitude vs. Cloudiness Plot"
   ]
  },
  {
   "cell_type": "code",
   "execution_count": 120,
   "metadata": {},
   "outputs": [
    {
     "data": {
      "image/png": "[encoded data removed]",
      "text/plain": [
       "<Figure size 432x288 with 1 Axes>"
      ]
     },
     "metadata": {
      "needs_background": "light"
     },
     "output_type": "display_data"
    }
   ],
   "source": [
    "latitude = low_humidity_city[\"Latitude\"]\n",
    "cloudiness = low_humidity_city[\"Cloudiness\"]\n",
    "\n",
    "plt.scatter(latitude, cloudiness,color=\"g\",edgecolors=\"b\")\n",
    "plt.xlabel(\"Latitude\")\n",
    "plt.ylabel(\"Cloudiness\")\n",
    "plt.title(\"City Latitude vs. Cloudiness (11/20/2020)\")\n",
    "plt.grid()\n",
    "plt.savefig(\"output_data/lat_cloudiness.png\")\n",
    "plt.show()"
   ]
  },
  {
   "cell_type": "markdown",
   "metadata": {},
   "source": [
    "#### The graph above shows that there is no correlation between latitude and cloudiness."
   ]
  },
  {
   "cell_type": "markdown",
   "metadata": {},
   "source": [
    "### Latitude vs. Wind Speed Plot"
   ]
  },
  {
   "cell_type": "code",
   "execution_count": 121,
   "metadata": {},
   "outputs": [
    {
     "data": {
      "image/png": "[encoded data removed]",
      "text/plain": [
       "<Figure size 432x288 with 1 Axes>"
      ]
     },
     "metadata": {
      "needs_background": "light"
     },
     "output_type": "display_data"
    }
   ],
   "source": [
    "latitude = low_humidity_city[\"Latitude\"]\n",
    "wind_speed = low_humidity_city[\"Wind Speed\"]\n",
    "\n",
    "plt.scatter(latitude, wind_speed,color=\"g\",edgecolors=\"b\")\n",
    "plt.xlabel(\"Latitude\")\n",
    "plt.ylabel(\"Wind Speed\")\n",
    "plt.title(\"City Latitude vs. Wind Speed (11/20/2020)\")\n",
    "plt.grid()\n",
    "plt.savefig(\"output_data/lat_windspeed.png\")\n",
    "plt.show()"
   ]
  },
  {
   "cell_type": "markdown",
   "metadata": {},
   "source": [
    "#### The graph above shows that wind speed seems to be concentrated between 0 to 15 mph."
   ]
  },
  {
   "cell_type": "markdown",
   "metadata": {},
   "source": [
    "## Linear Regression"
   ]
  },
  {
   "cell_type": "markdown",
   "metadata": {},
   "source": [
    "###  Northern Hemisphere - Max Temp vs. Latitude Linear Regression"
   ]
  },
  {
   "cell_type": "code",
   "execution_count": 128,
   "metadata": {},
   "outputs": [
    {
     "data": {
      "image/png": "[encoded data removed]",
      "text/plain": [
       "<Figure size 432x288 with 1 Axes>"
      ]
     },
     "metadata": {
      "needs_background": "light"
     },
     "output_type": "display_data"
    },
    {
     "name": "stdout",
     "output_type": "stream",
     "text": [
      "The r-squared value is: -0.8719048642452333\n"
     ]
    }
   ],
   "source": [
    "northern_hemisphere = low_humidity_city[(low_humidity_city['Latitude'] > 0)]\n",
    "n_latitude = northern_hemisphere[\"Latitude\"]\n",
    "n_temperature = northern_hemisphere[\"Max Temp\"]\n",
    "\n",
    "# Add the linear regression equation and line to plot\n",
    "(slope, intercept, rvalue, pvalue, stderr) = linregress(n_latitude, n_temperature)\n",
    "regress_values = n_latitude * slope + intercept\n",
    "line_eq = \"y = \" + str(round(slope,2)) + \"x + \" + str(round(intercept,2))\n",
    "plt.scatter(n_latitude, n_temperature,color=\"g\",edgecolors=\"b\")\n",
    "plt.plot(n_latitude,regress_values,\"r-\")\n",
    "plt.annotate(line_eq,(6,10),fontsize=15,color=\"red\")\n",
    "plt.xlabel(\"Latitude\")\n",
    "plt.ylabel(\"Temperature\")\n",
    "plt.savefig(\"output_data/northern_lat_temp.png\")\n",
    "plt.show()\n",
    "(print(f\"The r-squared value is: {rvalue}\"))"
   ]
  },
  {
   "cell_type": "markdown",
   "metadata": {},
   "source": [
    "#### The graph above shows that there is strong negative correlation between the temperature and latitude. This means that the closer the locations are to the north pole, the colder the weather becomes."
   ]
  },
  {
   "cell_type": "markdown",
   "metadata": {},
   "source": [
    "### Southern Hemisphere - Max Temp vs. Latitude Linear Regression"
   ]
  },
  {
   "cell_type": "code",
   "execution_count": 148,
   "metadata": {},
   "outputs": [
    {
     "data": {
      "image/png": "[encoded data removed]",
      "text/plain": [
       "<Figure size 432x288 with 1 Axes>"
      ]
     },
     "metadata": {
      "needs_background": "light"
     },
     "output_type": "display_data"
    },
    {
     "name": "stdout",
     "output_type": "stream",
     "text": [
      "The r-squared value is: 0.46639257009829505\n"
     ]
    }
   ],
   "source": [
    "southern_hemisphere = low_humidity_city[(low_humidity_city['Latitude'] < 0)]\n",
    "s_latitude = southern_hemisphere[\"Latitude\"]\n",
    "s_temperature = southern_hemisphere[\"Max Temp\"]\n",
    "\n",
    "# Add the linear regression equation and line to plot\n",
    "(slope, intercept, rvalue, pvalue, stderr) = linregress(s_latitude, s_temperature)\n",
    "regress_values = s_latitude * slope + intercept\n",
    "line_eq = \"y = \" + str(round(slope,2)) + \"x + \" + str(round(intercept,2))\n",
    "plt.scatter(s_latitude, s_temperature,color=\"g\",edgecolors=\"b\")\n",
    "plt.plot(s_latitude,regress_values,\"r-\")\n",
    "plt.annotate(line_eq,(-50,49),fontsize=15,color=\"red\")\n",
    "plt.xlabel(\"Latitude\")\n",
    "plt.ylabel(\"Temperature\")\n",
    "plt.savefig(\"output_data/southern_lat_temp.png\")\n",
    "plt.show()\n",
    "(print(f\"The r-squared value is: {rvalue}\"))"
   ]
  },
  {
   "cell_type": "markdown",
   "metadata": {},
   "source": [
    "#### The graph above shows that there is moderate correlation between temperature and latitude. This means that the closer the locations are to the equator, it is likely that the warmer the weather becomes."
   ]
  },
  {
   "cell_type": "markdown",
   "metadata": {},
   "source": [
    "### Northern Hemisphere - Humidity (%) vs. Latitude Linear Regression"
   ]
  },
  {
   "cell_type": "code",
   "execution_count": 133,
   "metadata": {},
   "outputs": [
    {
     "data": {
      "image/png": "[encoded data removed]",
      "text/plain": [
       "<Figure size 432x288 with 1 Axes>"
      ]
     },
     "metadata": {
      "needs_background": "light"
     },
     "output_type": "display_data"
    },
    {
     "name": "stdout",
     "output_type": "stream",
     "text": [
      "The r-squared value is: 0.36250351631194866\n"
     ]
    }
   ],
   "source": [
    "northern_hemisphere = low_humidity_city[(low_humidity_city['Latitude'] > 0)]\n",
    "n_latitude = northern_hemisphere[\"Latitude\"]\n",
    "n_humidity = northern_hemisphere[\"Humidity\"]\n",
    "\n",
    "# Add the linear regression equation and line to plot\n",
    "(slope, intercept, rvalue, pvalue, stderr) = linregress(n_latitude, n_humidity)\n",
    "regress_values = n_latitude * slope + intercept\n",
    "line_eq = \"y = \" + str(round(slope,2)) + \"x + \" + str(round(intercept,2))\n",
    "plt.scatter(n_latitude, n_humidity,color=\"g\",edgecolors=\"b\")\n",
    "plt.plot(n_latitude,regress_values,\"r-\")\n",
    "plt.annotate(line_eq,(6,10),fontsize=15,color=\"red\")\n",
    "plt.xlabel(\"Latitude\")\n",
    "plt.ylabel(\"Humidity\")\n",
    "plt.savefig(\"output_data/northern_lat_humidity.png\")\n",
    "plt.show()\n",
    "(print(f\"The r-squared value is: {rvalue}\"))"
   ]
  },
  {
   "cell_type": "markdown",
   "metadata": {},
   "source": [
    "#### The graph above shows that there is weak correlation between humidity and latitude above the equator."
   ]
  },
  {
   "cell_type": "markdown",
   "metadata": {},
   "source": [
    "### Southern Hemisphere - Humidity (%) vs. Latitude Linear Regression"
   ]
  },
  {
   "cell_type": "code",
   "execution_count": 145,
   "metadata": {},
   "outputs": [
    {
     "data": {
      "image/png": "[encoded data removed]",
      "text/plain": [
       "<Figure size 432x288 with 1 Axes>"
      ]
     },
     "metadata": {
      "needs_background": "light"
     },
     "output_type": "display_data"
    },
    {
     "name": "stdout",
     "output_type": "stream",
     "text": [
      "The r-squared value is: 0.24428980808055847\n"
     ]
    }
   ],
   "source": [
    "southern_hemisphere = low_humidity_city[(low_humidity_city['Latitude'] < 0)]\n",
    "s_latitude = southern_hemisphere[\"Latitude\"]\n",
    "s_humidity = southern_hemisphere[\"Humidity\"]\n",
    "\n",
    "# Add the linear regression equation and line to plot\n",
    "(slope, intercept, rvalue, pvalue, stderr) = linregress(s_latitude, s_humidity)\n",
    "regress_values = s_latitude * slope + intercept\n",
    "line_eq = \"y = \" + str(round(slope,2)) + \"x + \" + str(round(intercept,2))\n",
    "plt.scatter(s_latitude, s_humidity,color=\"g\",edgecolors=\"b\")\n",
    "plt.plot(s_latitude,regress_values,\"r-\")\n",
    "plt.annotate(line_eq,(-50,10),fontsize=15,color=\"red\")\n",
    "plt.xlabel(\"Latitude\")\n",
    "plt.ylabel(\"Humidity\")\n",
    "plt.savefig(\"output_data/southern_lat_humidity.png\")\n",
    "plt.show()\n",
    "(print(f\"The r-squared value is: {rvalue}\"))"
   ]
  },
  {
   "cell_type": "markdown",
   "metadata": {},
   "source": [
    "#### The graph above shows that there is weak correlation between humidity and latitude below the equator."
   ]
  },
  {
   "cell_type": "markdown",
   "metadata": {},
   "source": [
    "### Northern Hemisphere - Cloudiness (%) vs. Latitude Linear Regression"
   ]
  },
  {
   "cell_type": "code",
   "execution_count": 135,
   "metadata": {},
   "outputs": [
    {
     "data": {
      "image/png": "[encoded data removed]",
      "text/plain": [
       "<Figure size 432x288 with 1 Axes>"
      ]
     },
     "metadata": {
      "needs_background": "light"
     },
     "output_type": "display_data"
    },
    {
     "name": "stdout",
     "output_type": "stream",
     "text": [
      "The r-squared value is: 0.3892081339861128\n"
     ]
    }
   ],
   "source": [
    "northern_hemisphere = low_humidity_city[(low_humidity_city['Latitude'] > 0)]\n",
    "n_latitude = northern_hemisphere[\"Latitude\"]\n",
    "n_cloudiness = northern_hemisphere[\"Cloudiness\"]\n",
    "\n",
    "# Add the linear regression equation and line to plot\n",
    "(slope, intercept, rvalue, pvalue, stderr) = linregress(n_latitude, n_cloudiness)\n",
    "regress_values = n_latitude * slope + intercept\n",
    "line_eq = \"y = \" + str(round(slope,2)) + \"x + \" + str(round(intercept,2))\n",
    "plt.scatter(n_latitude, n_cloudiness,color=\"g\",edgecolors=\"b\")\n",
    "plt.plot(n_latitude,regress_values,\"r-\")\n",
    "plt.annotate(line_eq,(6,10),fontsize=15,color=\"red\")\n",
    "plt.xlabel(\"Latitude\")\n",
    "plt.ylabel(\"Cloudiness\")\n",
    "plt.savefig(\"output_data/northern_lat_cloudiness.png\")\n",
    "plt.show()\n",
    "(print(f\"The r-squared value is: {rvalue}\"))"
   ]
  },
  {
   "cell_type": "markdown",
   "metadata": {},
   "source": [
    "#### The graph above shows that there is weak correlation between cloudiness and latitude that is above the equator."
   ]
  },
  {
   "cell_type": "markdown",
   "metadata": {},
   "source": [
    "### Southern Hemisphere - Cloudiness (%) vs. Latitude Linear Regression"
   ]
  },
  {
   "cell_type": "code",
   "execution_count": 144,
   "metadata": {},
   "outputs": [
    {
     "data": {
      "image/png": "[encoded data removed]",
      "text/plain": [
       "<Figure size 432x288 with 1 Axes>"
      ]
     },
     "metadata": {
      "needs_background": "light"
     },
     "output_type": "display_data"
    },
    {
     "name": "stdout",
     "output_type": "stream",
     "text": [
      "The r-squared value is: 0.2345455831428247\n"
     ]
    }
   ],
   "source": [
    "southern_hemisphere = low_humidity_city[(low_humidity_city['Latitude'] < 0)]\n",
    "s_latitude = southern_hemisphere[\"Latitude\"]\n",
    "s_cloudiness = southern_hemisphere[\"Cloudiness\"]\n",
    "\n",
    "# Add the linear regression equation and line to plot\n",
    "(slope, intercept, rvalue, pvalue, stderr) = linregress(s_latitude, s_cloudiness)\n",
    "regress_values = s_latitude * slope + intercept\n",
    "line_eq = \"y = \" + str(round(slope,2)) + \"x + \" + str(round(intercept,2))\n",
    "plt.scatter(s_latitude, s_cloudiness,color=\"g\",edgecolors=\"b\")\n",
    "plt.plot(s_latitude,regress_values,\"r-\")\n",
    "plt.annotate(line_eq,(-50,10),fontsize=15,color=\"red\")\n",
    "plt.xlabel(\"Latitude\")\n",
    "plt.ylabel(\"Cloudiness\")\n",
    "plt.savefig(\"output_data/southern_lat_cloudiness.png\")\n",
    "plt.show()\n",
    "(print(f\"The r-squared value is: {rvalue}\"))"
   ]
  },
  {
   "cell_type": "markdown",
   "metadata": {},
   "source": [
    "#### The graph above shows that there is weak correlation between cloudiness and latitude beneath the equator."
   ]
  },
  {
   "cell_type": "markdown",
   "metadata": {},
   "source": [
    "### Northern Hemisphere - Wind Speed (mph) vs. Latitude Linear Regression"
   ]
  },
  {
   "cell_type": "code",
   "execution_count": 143,
   "metadata": {},
   "outputs": [
    {
     "data": {
      "image/png": "[encoded data removed]",
      "text/plain": [
       "<Figure size 432x288 with 1 Axes>"
      ]
     },
     "metadata": {
      "needs_background": "light"
     },
     "output_type": "display_data"
    },
    {
     "name": "stdout",
     "output_type": "stream",
     "text": [
      "The r-squared value is: 0.24105393691177662\n"
     ]
    }
   ],
   "source": [
    "northern_hemisphere = low_humidity_city[(low_humidity_city['Latitude'] > 0)]\n",
    "n_latitude = northern_hemisphere[\"Latitude\"]\n",
    "n_windspeed = northern_hemisphere[\"Wind Speed\"]\n",
    "\n",
    "# Add the linear regression equation and line to plot\n",
    "(slope, intercept, rvalue, pvalue, stderr) = linregress(n_latitude, n_windspeed)\n",
    "regress_values = n_latitude * slope + intercept\n",
    "line_eq = \"y = \" + str(round(slope,2)) + \"x + \" + str(round(intercept,2))\n",
    "plt.scatter(n_latitude, n_windspeed,color=\"g\",edgecolors=\"b\")\n",
    "plt.plot(n_latitude,regress_values,\"r-\")\n",
    "plt.annotate(line_eq,(10,30),fontsize=15,color=\"red\")\n",
    "plt.xlabel(\"Latitude\")\n",
    "plt.ylabel(\"Wind Speed\")\n",
    "plt.savefig(\"output_data/northern_lat_windspeed.png\")\n",
    "plt.show()\n",
    "(print(f\"The r-squared value is: {rvalue}\"))"
   ]
  },
  {
   "cell_type": "markdown",
   "metadata": {},
   "source": [
    "#### The graph above shows that there is weak correlation between wind speed and latitude above the equator."
   ]
  },
  {
   "cell_type": "code",
   "execution_count": 152,
   "metadata": {},
   "outputs": [
    {
     "data": {
      "image/png": "[encoded data removed]",
      "text/plain": [
       "<Figure size 432x288 with 1 Axes>"
      ]
     },
     "metadata": {
      "needs_background": "light"
     },
     "output_type": "display_data"
    },
    {
     "name": "stdout",
     "output_type": "stream",
     "text": [
      "The r-squared value is: -0.20180309818628558\n"
     ]
    }
   ],
   "source": [
    "southern_hemisphere = low_humidity_city[(low_humidity_city['Latitude'] < 0)]\n",
    "s_latitude = southern_hemisphere[\"Latitude\"]\n",
    "s_windspeed = southern_hemisphere[\"Wind Speed\"]\n",
    "\n",
    "# Add the linear regression equation and line to plot\n",
    "(slope, intercept, rvalue, pvalue, stderr) = linregress(s_latitude, s_windspeed)\n",
    "regress_values = s_latitude * slope + intercept\n",
    "line_eq = \"y = \" + str(round(slope,2)) + \"x + \" + str(round(intercept,2))\n",
    "plt.scatter(s_latitude, s_windspeed,color=\"g\",edgecolors=\"b\")\n",
    "plt.plot(s_latitude,regress_values,\"r-\")\n",
    "plt.annotate(line_eq,(-50,20),fontsize=15,color=\"red\")\n",
    "plt.xlabel(\"Latitude\")\n",
    "plt.ylabel(\"Wind Speed\")\n",
    "plt.savefig(\"output_data/northern_lat_windspeed.png\")\n",
    "plt.show()\n",
    "(print(f\"The r-squared value is: {rvalue}\"))"
   ]
  },
  {
   "cell_type": "markdown",
   "metadata": {},
   "source": [
    "#### The graph above illustrates that there is weak negative correlation between wind speed and latitude beneath the equator."
   ]
  },
  {
   "cell_type": "code",
   "execution_count": null,
   "metadata": {},
   "outputs": [],
   "source": []
  }
 ],
 "metadata": {
  "kernelspec": {
   "display_name": "Python 3",
   "language": "python",
   "name": "python3"
  },
  "language_info": {
   "codemirror_mode": {
    "name": "ipython",
    "version": 3
   },
   "file_extension": ".py",
   "mimetype": "text/x-python",
   "name": "python",
   "nbconvert_exporter": "python",
   "pygments_lexer": "ipython3",
   "version": "3.6.10"
  }
 },
 "nbformat": 4,
 "nbformat_minor": 4
}
